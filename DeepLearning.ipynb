{
 "cells": [
  {
   "cell_type": "code",
   "execution_count": 1,
   "metadata": {},
   "outputs": [
    {
     "name": "stderr",
     "output_type": "stream",
     "text": [
      "Using TensorFlow backend.\n"
     ]
    }
   ],
   "source": [
    "import pandas as pd          \n",
    "import numpy as np          # For mathematical calculations \n",
    "import matplotlib.pyplot as plt  # For plotting graphs \n",
    "from datetime import datetime    # To access datetime \n",
    "from pandas import Series        # To work on series \n",
    "%matplotlib inline \n",
    "import warnings   \n",
    "import seaborn as sns\n",
    "import itertools\n",
    "import math\n",
    "warnings.filterwarnings('ignore')\n",
    "\n",
    "plt.style.use('fivethirtyeight')\n",
    "\n",
    "from sklearn.preprocessing import StandardScaler,OneHotEncoder\n",
    "from sklearn.metrics import r2_score,mean_absolute_error,mean_squared_error\n",
    "\n",
    "\n",
    "from math import sqrt \n",
    "from matplotlib import pyplot\n",
    "\n",
    "# univariate mlp example\n",
    "from numpy import array\n",
    "from keras.models import Sequential\n",
    "from keras.layers import Dense\n",
    "\n",
    "\n",
    "from keras.layers import Flatten\n",
    "from keras.layers.convolutional import Conv1D\n",
    "from keras.layers.convolutional import MaxPooling1D\n",
    "\n",
    "from keras.layers import LSTM"
   ]
  },
  {
   "cell_type": "code",
   "execution_count": 2,
   "metadata": {},
   "outputs": [],
   "source": [
    "data=pd.read_csv(\"data.csv\") \n",
    "data_original=data.copy()"
   ]
  },
  {
   "cell_type": "markdown",
   "metadata": {},
   "source": [
    "#### Convert date column into date format"
   ]
  },
  {
   "cell_type": "code",
   "execution_count": 3,
   "metadata": {},
   "outputs": [],
   "source": [
    "data['calendar_date'] = pd.to_datetime(data.calendar_date,format='%m/%d/%Y') \n",
    "data.index = data['calendar_date']\n",
    "data.sort_index(inplace=True)"
   ]
  },
  {
   "cell_type": "markdown",
   "metadata": {},
   "source": [
    "### There are some negative volume, revenue\n",
    "+ It could be due to goods return\n",
    "+ It might be data error, some numbers are mistakely with negative sign\n",
    "\n",
    "Assumption: I consider it as an error. Therefore, I would change the sign of negative numbers\n",
    "\n",
    "Before that let's look at number of rows with negative values corresponding each column"
   ]
  },
  {
   "cell_type": "code",
   "execution_count": 4,
   "metadata": {},
   "outputs": [
    {
     "data": {
      "text/plain": [
       "product_id          0\n",
       "calendar_date    1340\n",
       "volume_sold         1\n",
       "revenue             1\n",
       "cost                1\n",
       "vdm1                1\n",
       "vwm1                6\n",
       "vmm1                6\n",
       "vmm2                0\n",
       "vmm13               0\n",
       "rdm1                1\n",
       "rwm1                6\n",
       "rmm1                5\n",
       "rmm2                0\n",
       "rmm13               0\n",
       "cdm1                1\n",
       "cwm1                6\n",
       "cmm1                6\n",
       "cmm2                0\n",
       "cmm13               0\n",
       "mpdm1               0\n",
       "mpwm1               0\n",
       "mpmm1               0\n",
       "mpmm2               0\n",
       "mpmm13              0\n",
       "stock_level         2\n",
       "retail_price        0\n",
       "woy                 0\n",
       "dtype: int64"
      ]
     },
     "execution_count": 4,
     "metadata": {},
     "output_type": "execute_result"
    }
   ],
   "source": [
    "data[data<0].count()"
   ]
  },
  {
   "cell_type": "code",
   "execution_count": 5,
   "metadata": {},
   "outputs": [],
   "source": [
    "data['volume_sold']=data['volume_sold'].abs()\n",
    "data['revenue']=data['revenue'].abs()\n",
    "data['cost']=data['cost'].abs()\n",
    "data['vdm1']=data['vdm1'].abs()\n",
    "data['vwm1']=data['vwm1'].abs()\n",
    "data['vmm1']=data['vmm1'].abs()\n",
    "data['rdm1']=data['rdm1'].abs()\n",
    "data['rwm1']=data['rwm1'].abs()\n",
    "data['rmm1']=data['rmm1'].abs()\n",
    "data['cdm1']=data['cdm1'].abs()\n",
    "data['cwm1']=data['cwm1'].abs()\n",
    "data['cmm1']=data['cmm1'].abs()\n",
    "data['stock_level']=data['stock_level'].abs()"
   ]
  },
  {
   "cell_type": "markdown",
   "metadata": {},
   "source": [
    "### Helper Functions"
   ]
  },
  {
   "cell_type": "code",
   "execution_count": 6,
   "metadata": {},
   "outputs": [],
   "source": [
    "def model_quality(observed,predictions,model):\n",
    "    print(\"__\"*50,\"\\n\")\n",
    "    print('The RMSE of the '+str(model)+' Regression is',sqrt(mean_squared_error(observed,predictions)))\n",
    "    print(\"__\"*50,\"\\n\")\n",
    "    \n",
    "    print('The MSE of the '+str(model)+' Regression is',mean_squared_error(observed,predictions))\n",
    "   \n",
    "    print(\"__\"*50,\"\\n\")\n",
    "    print('The MAE of the '+str(model)+' Regression is',mean_absolute_error(observed,predictions))\n",
    "\n",
    "    \n",
    "    print(\"__\"*50,\"\\n\")\n",
    "    print(\"Sum of Original Sales for next 28 days: \",observed.sum())\n",
    "    print(\"Sum of Predicted Sales for next 28 days: \",predictions.sum())\n",
    "    print('The difference between model original and predictions values of the '+str(model)+' Regression is',observed.sum() - predictions.sum())\n",
    "\n",
    "    \n",
    "    print(\"__\"*50,\"\\n\")"
   ]
  },
  {
   "cell_type": "code",
   "execution_count": 7,
   "metadata": {},
   "outputs": [],
   "source": [
    "def pre_process_data(data,product,size_test_data,product_list):\n",
    "    \n",
    "    data=data.dropna()\n",
    "    \n",
    "    data_model_df=data[data['product_id']==product]\n",
    "    \n",
    "    for j in range(len(product_list)):\n",
    "        if product_list[j]!=product:\n",
    "            data_model_df[str(product_list[j])+'_comp1_price']=data[data['product_id']==product_list[j]]['retail_price']\n",
    "            data_model_df['Item_comp_price_diff_'+str(product_list[j])]=data[data['product_id']==product]['retail_price'] - data_model_df[str(product_list[j])+'_comp1_price']\n",
    "    features_col=list(set(data_model_df.columns.tolist())-set([\"product_id\",\"calendar_date\",\"revenue\",\"cost\",\"stock_level\",\"woy\",\"vdm1\",\"vwm1\",\"vmm1\",\"rdm1\",\"rwm1\",\"rmm1\",\"cdm1\",\"cwm1\",\"cmm1\",\"mpdm1\",\"mpwm1\",\"mpmm1\"]))\n",
    "    \n",
    "    \n",
    "    df_train=data_model_df[data_model_df[\"calendar_date\"]<=\"2017-10-31\"][features_col] \n",
    "    df_test=data_model_df[data_model_df[\"calendar_date\"]>\"2017-10-31\"][features_col]\n",
    "   \n",
    "    df_test=df_test.head(size_test_data)\n",
    "    \n",
    "    return df_train,df_test"
   ]
  },
  {
   "cell_type": "code",
   "execution_count": 8,
   "metadata": {},
   "outputs": [],
   "source": [
    "def fit_features_scaler(df_train):\n",
    "    \n",
    "    scaler = StandardScaler()\n",
    "    scaler.fit(df_train.drop('volume_sold', axis=1))\n",
    "        \n",
    "    return scaler\n",
    "    \n",
    "def transform_features(df, scaler):\n",
    "   \n",
    "    df_features = df.drop('volume_sold', axis=1)\n",
    "    df_scaled = pd.DataFrame(scaler.transform(df_features), columns=df_features.columns)\n",
    "       \n",
    "    \n",
    "    return df_scaled"
   ]
  },
  {
   "cell_type": "code",
   "execution_count": 9,
   "metadata": {},
   "outputs": [],
   "source": [
    "def plot_series(df_train,df_test,Prediction):\n",
    "        \n",
    "        ts = df_train['volume_sold'] \n",
    "        ts1=ts.append(df_test['volume_sold'])\n",
    "        ts2=ts.append(df_test['predictions'])\n",
    "        \n",
    "        plt.figure(figsize=(16,8)) \n",
    "        plt.plot(ts2, 'r',label='Predictions')\n",
    "        plt.plot(ts1,'g',label='Original Series') \n",
    "        plt.title('Time Series') \n",
    "        plt.xlabel(\"Time(year-month)\") \n",
    "        plt.ylabel(\"Item sold count\") \n",
    "        plt.legend(loc='best')\n",
    "        plt.show()"
   ]
  },
  {
   "cell_type": "code",
   "execution_count": 10,
   "metadata": {},
   "outputs": [],
   "source": [
    "def weekend(row):\n",
    "    if row.dayofweek == 5 or row.dayofweek == 6:\n",
    "        return 1\n",
    "    else:\n",
    "        return 0 "
   ]
  },
  {
   "cell_type": "code",
   "execution_count": 11,
   "metadata": {},
   "outputs": [],
   "source": [
    "# Based on assumption that we have mean_retail_price (retail_price on next 1 week)\n",
    "def price_diff_retail_price_with_max_price_in_previous_periods(df):\n",
    "    \n",
    "    df['Retail_price_diff_max_price_in_last_2month']=df['retail_price'] -df['mpmm2']/28\n",
    "    df['Retail_price_diff_max_price_in_last_year_13month']=df['retail_price'] -df['mpmm13']/28\n",
    "    \n",
    "    return df"
   ]
  },
  {
   "cell_type": "markdown",
   "metadata": {},
   "source": [
    "# Features"
   ]
  },
  {
   "cell_type": "markdown",
   "metadata": {},
   "source": [
    "#### Time Features"
   ]
  },
  {
   "cell_type": "code",
   "execution_count": 12,
   "metadata": {},
   "outputs": [],
   "source": [
    "data['month']=data.calendar_date.dt.month \n",
    "data['day']=data.calendar_date.dt.day"
   ]
  },
  {
   "cell_type": "code",
   "execution_count": 13,
   "metadata": {},
   "outputs": [],
   "source": [
    "temp2 = data['calendar_date'].apply(weekend) \n",
    "data['weekend']=temp2"
   ]
  },
  {
   "cell_type": "markdown",
   "metadata": {},
   "source": [
    "#### Difference in current retail price with previous maximum prices"
   ]
  },
  {
   "cell_type": "code",
   "execution_count": 14,
   "metadata": {},
   "outputs": [],
   "source": [
    "data=price_diff_retail_price_with_max_price_in_previous_periods(data)"
   ]
  },
  {
   "cell_type": "markdown",
   "metadata": {},
   "source": [
    "# Modeling"
   ]
  },
  {
   "cell_type": "markdown",
   "metadata": {},
   "source": [
    "### MLP"
   ]
  },
  {
   "cell_type": "code",
   "execution_count": 15,
   "metadata": {},
   "outputs": [
    {
     "name": "stdout",
     "output_type": "stream",
     "text": [
      "______________\n",
      "Product: 13701\n"
     ]
    },
    {
     "name": "stderr",
     "output_type": "stream",
     "text": [
      "WARNING: Logging before flag parsing goes to stderr.\n",
      "W0825 10:24:25.961333 139879973164800 deprecation_wrapper.py:119] From /home/bhbhan/.conda/envs/newron_clone/lib/python3.6/site-packages/keras/backend/tensorflow_backend.py:74: The name tf.get_default_graph is deprecated. Please use tf.compat.v1.get_default_graph instead.\n",
      "\n",
      "W0825 10:24:25.992407 139879973164800 deprecation_wrapper.py:119] From /home/bhbhan/.conda/envs/newron_clone/lib/python3.6/site-packages/keras/backend/tensorflow_backend.py:517: The name tf.placeholder is deprecated. Please use tf.compat.v1.placeholder instead.\n",
      "\n",
      "W0825 10:24:25.995949 139879973164800 deprecation_wrapper.py:119] From /home/bhbhan/.conda/envs/newron_clone/lib/python3.6/site-packages/keras/backend/tensorflow_backend.py:4138: The name tf.random_uniform is deprecated. Please use tf.random.uniform instead.\n",
      "\n",
      "W0825 10:24:26.035867 139879973164800 deprecation_wrapper.py:119] From /home/bhbhan/.conda/envs/newron_clone/lib/python3.6/site-packages/keras/optimizers.py:790: The name tf.train.Optimizer is deprecated. Please use tf.compat.v1.train.Optimizer instead.\n",
      "\n",
      "W0825 10:24:26.161197 139879973164800 deprecation_wrapper.py:119] From /home/bhbhan/.conda/envs/newron_clone/lib/python3.6/site-packages/keras/backend/tensorflow_backend.py:986: The name tf.assign_add is deprecated. Please use tf.compat.v1.assign_add instead.\n",
      "\n",
      "W0825 10:24:26.244809 139879973164800 deprecation_wrapper.py:119] From /home/bhbhan/.conda/envs/newron_clone/lib/python3.6/site-packages/keras/backend/tensorflow_backend.py:973: The name tf.assign is deprecated. Please use tf.compat.v1.assign instead.\n",
      "\n"
     ]
    },
    {
     "name": "stdout",
     "output_type": "stream",
     "text": [
      "____________________________________________________________________________________________________ \n",
      "\n",
      "The RMSE of the MLP Regression is 574.6362965616187\n",
      "____________________________________________________________________________________________________ \n",
      "\n",
      "The MSE of the MLP Regression is 330206.87332605256\n",
      "____________________________________________________________________________________________________ \n",
      "\n",
      "The MAE of the MLP Regression is 419.95759955474307\n",
      "____________________________________________________________________________________________________ \n",
      "\n",
      "Sum of Original Sales for next 28 days:  16510\n",
      "Sum of Predicted Sales for next 28 days:  5853.206\n",
      "The difference between model original and predictions values of the MLP Regression is 10656.7939453125\n",
      "____________________________________________________________________________________________________ \n",
      "\n",
      "______________\n",
      "Product: 26104\n",
      "____________________________________________________________________________________________________ \n",
      "\n",
      "The RMSE of the MLP Regression is 21.715078693564354\n",
      "____________________________________________________________________________________________________ \n",
      "\n",
      "The MSE of the MLP Regression is 471.54464266769264\n",
      "____________________________________________________________________________________________________ \n",
      "\n",
      "The MAE of the MLP Regression is 17.154499002865382\n",
      "____________________________________________________________________________________________________ \n",
      "\n",
      "Sum of Original Sales for next 28 days:  1\n",
      "Sum of Predicted Sales for next 28 days:  -99.86308\n",
      "The difference between model original and predictions values of the MLP Regression is 100.86308288574219\n",
      "____________________________________________________________________________________________________ \n",
      "\n",
      "______________\n",
      "Product: 158737\n",
      "____________________________________________________________________________________________________ \n",
      "\n",
      "The RMSE of the MLP Regression is 132.60829155814386\n",
      "____________________________________________________________________________________________________ \n",
      "\n",
      "The MSE of the MLP Regression is 17584.95898996969\n",
      "____________________________________________________________________________________________________ \n",
      "\n",
      "The MAE of the MLP Regression is 107.46970245667866\n",
      "____________________________________________________________________________________________________ \n",
      "\n",
      "Sum of Original Sales for next 28 days:  2296\n",
      "Sum of Predicted Sales for next 28 days:  5125.7246\n",
      "The difference between model original and predictions values of the MLP Regression is -2829.724609375\n",
      "____________________________________________________________________________________________________ \n",
      "\n",
      "______________\n",
      "Product: 158105\n",
      "____________________________________________________________________________________________________ \n",
      "\n",
      "The RMSE of the MLP Regression is 56.0439797477224\n",
      "____________________________________________________________________________________________________ \n",
      "\n",
      "The MSE of the MLP Regression is 3140.927665963119\n",
      "____________________________________________________________________________________________________ \n",
      "\n",
      "The MAE of the MLP Regression is 47.96281808614731\n",
      "____________________________________________________________________________________________________ \n",
      "\n",
      "Sum of Original Sales for next 28 days:  195\n",
      "Sum of Predicted Sales for next 28 days:  1427.1145\n",
      "The difference between model original and predictions values of the MLP Regression is -1232.114501953125\n",
      "____________________________________________________________________________________________________ \n",
      "\n"
     ]
    }
   ],
   "source": [
    "product_list=list(data['product_id'].unique())\n",
    "\n",
    "for i in range(len(list(product_list))):\n",
    "    print(\"______________\")\n",
    "    print(\"Product: \"+str(product_list[i]))\n",
    "\n",
    "    \n",
    "    df_train,df_test=pre_process_data(data,product_list[i],28,product_list) \n",
    "\n",
    "    # scale features\n",
    "    feature_scaler = fit_features_scaler(df_train)\n",
    "    feature_train_scaled = transform_features(df_train, feature_scaler)\n",
    "    feature_test_scaled = transform_features(df_test, feature_scaler)\n",
    "    \n",
    "    X=feature_train_scaled.as_matrix()\n",
    "    y=df_train['volume_sold'].as_matrix()\n",
    "    \n",
    "    # model design\n",
    "    model = Sequential()\n",
    "    model.add(Dense(100, activation='relu', input_dim=X.shape[1]))\n",
    "    model.add(Dense(1))\n",
    "    model.compile(optimizer='adam', loss='mse')\n",
    "    \n",
    "    # fit model\n",
    "    model.fit(X, y, epochs=500, verbose=0)\n",
    "    \n",
    "    # demonstrate prediction\n",
    "    x_test = feature_test_scaled.as_matrix()\n",
    "    y_input = df_test['volume_sold'].as_matrix()\n",
    "    \n",
    "    yhat = model.predict(x_test, verbose=0)\n",
    "    \n",
    "    model_quality(y_input,yhat.flatten(),'MLP')\n",
    "   \n",
    "\n",
    "    "
   ]
  },
  {
   "cell_type": "markdown",
   "metadata": {},
   "source": [
    "#### LSTM"
   ]
  },
  {
   "cell_type": "code",
   "execution_count": 17,
   "metadata": {},
   "outputs": [
    {
     "name": "stdout",
     "output_type": "stream",
     "text": [
      "______________\n",
      "Product: 13701\n"
     ]
    },
    {
     "name": "stderr",
     "output_type": "stream",
     "text": [
      "W0825 10:25:18.607578 139879973164800 deprecation.py:323] From /home/bhbhan/.conda/envs/newron_clone/lib/python3.6/site-packages/tensorflow/python/ops/math_grad.py:1250: add_dispatch_support.<locals>.wrapper (from tensorflow.python.ops.array_ops) is deprecated and will be removed in a future version.\n",
      "Instructions for updating:\n",
      "Use tf.where in 2.0, which has the same broadcast rule as np.where\n"
     ]
    },
    {
     "name": "stdout",
     "output_type": "stream",
     "text": [
      "____________________________________________________________________________________________________ \n",
      "\n",
      "The RMSE of the LSTM Regression is 728.118287486699\n",
      "____________________________________________________________________________________________________ \n",
      "\n",
      "The MSE of the LSTM Regression is 530156.2405725633\n",
      "____________________________________________________________________________________________________ \n",
      "\n",
      "The MAE of the LSTM Regression is 570.0844658187458\n",
      "____________________________________________________________________________________________________ \n",
      "\n",
      "Sum of Original Sales for next 28 days:  16510\n",
      "Sum of Predicted Sales for next 28 days:  547.63495\n",
      "The difference between model original and predictions values of the LSTM Regression is 15962.365051269531\n",
      "____________________________________________________________________________________________________ \n",
      "\n",
      "______________\n",
      "Product: 26104\n",
      "____________________________________________________________________________________________________ \n",
      "\n",
      "The RMSE of the LSTM Regression is 16.59900345803603\n",
      "____________________________________________________________________________________________________ \n",
      "\n",
      "The MSE of the LSTM Regression is 275.52691579989204\n",
      "____________________________________________________________________________________________________ \n",
      "\n",
      "The MAE of the LSTM Regression is 12.543347120285034\n",
      "____________________________________________________________________________________________________ \n",
      "\n",
      "Sum of Original Sales for next 28 days:  1\n",
      "Sum of Predicted Sales for next 28 days:  352.21375\n",
      "The difference between model original and predictions values of the LSTM Regression is -351.2137451171875\n",
      "____________________________________________________________________________________________________ \n",
      "\n",
      "______________\n",
      "Product: 158737\n",
      "____________________________________________________________________________________________________ \n",
      "\n",
      "The RMSE of the LSTM Regression is 40.82997034649103\n",
      "____________________________________________________________________________________________________ \n",
      "\n",
      "The MSE of the LSTM Regression is 1667.0864784953367\n",
      "____________________________________________________________________________________________________ \n",
      "\n",
      "The MAE of the LSTM Regression is 21.670902763094222\n",
      "____________________________________________________________________________________________________ \n",
      "\n",
      "Sum of Original Sales for next 28 days:  2296\n",
      "Sum of Predicted Sales for next 28 days:  2016.6569\n",
      "The difference between model original and predictions values of the LSTM Regression is 279.3431396484375\n",
      "____________________________________________________________________________________________________ \n",
      "\n",
      "______________\n",
      "Product: 158105\n",
      "____________________________________________________________________________________________________ \n",
      "\n",
      "The RMSE of the LSTM Regression is 27.09761021783312\n",
      "____________________________________________________________________________________________________ \n",
      "\n",
      "The MSE of the LSTM Regression is 734.280479517614\n",
      "____________________________________________________________________________________________________ \n",
      "\n",
      "The MAE of the LSTM Regression is 20.211929287229264\n",
      "____________________________________________________________________________________________________ \n",
      "\n",
      "Sum of Original Sales for next 28 days:  195\n",
      "Sum of Predicted Sales for next 28 days:  754.3995\n",
      "The difference between model original and predictions values of the LSTM Regression is -559.3994750976562\n",
      "____________________________________________________________________________________________________ \n",
      "\n"
     ]
    }
   ],
   "source": [
    "product_list=list(data['product_id'].unique())\n",
    "\n",
    "for i in range(len(list(product_list))):\n",
    "    print(\"______________\")\n",
    "    print(\"Product: \"+str(product_list[i]))\n",
    "\n",
    "    \n",
    "    df_train,df_test=pre_process_data(data,product_list[i],28,product_list) \n",
    "\n",
    "    # scale features\n",
    "    feature_scaler = fit_features_scaler(df_train)\n",
    "    feature_train_scaled = transform_features(df_train, feature_scaler)\n",
    "    feature_test_scaled = transform_features(df_test, feature_scaler)\n",
    "    \n",
    "    X=feature_train_scaled.as_matrix()\n",
    "    y=df_train['volume_sold'].as_matrix()\n",
    "    \n",
    "    X = X.reshape((X.shape[0], X.shape[1], 1))\n",
    "    \n",
    "    # model design\n",
    "    model = Sequential()\n",
    "    model.add(LSTM(50, activation='relu', input_shape=(X.shape[1], 1)))\n",
    "    model.add(Dense(1))\n",
    "    model.compile(optimizer='adam', loss='mse')\n",
    "\n",
    "    \n",
    "    # fit model\n",
    "    model.fit(X, y, epochs=20, verbose=0)\n",
    "    \n",
    "    # demonstrate prediction\n",
    "    x_test = feature_test_scaled.as_matrix()  \n",
    "    x_test = x_test.reshape((x_test.shape[0],x_test.shape[1], 1))\n",
    "    \n",
    "    y_input = df_test['volume_sold'].as_matrix()\n",
    "    \n",
    "    yhat = model.predict(x_test, verbose=0)\n",
    "    \n",
    "    model_quality(y_input,yhat.flatten(),'LSTM')\n"
   ]
  },
  {
   "cell_type": "code",
   "execution_count": null,
   "metadata": {},
   "outputs": [],
   "source": []
  }
 ],
 "metadata": {
  "kernelspec": {
   "display_name": "Python 3",
   "language": "python",
   "name": "python3"
  },
  "language_info": {
   "codemirror_mode": {
    "name": "ipython",
    "version": 3
   },
   "file_extension": ".py",
   "mimetype": "text/x-python",
   "name": "python",
   "nbconvert_exporter": "python",
   "pygments_lexer": "ipython3",
   "version": "3.6.6"
  }
 },
 "nbformat": 4,
 "nbformat_minor": 2
}
